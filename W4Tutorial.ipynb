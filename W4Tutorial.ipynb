{
 "cells": [
  {
   "cell_type": "code",
   "execution_count": 4,
   "id": "e837924c",
   "metadata": {},
   "outputs": [
    {
     "data": {
      "text/plain": [
       "10"
      ]
     },
     "execution_count": 4,
     "metadata": {},
     "output_type": "execute_result"
    }
   ],
   "source": [
    "# Define `plus()` function to accept a variable number of arguments\n",
    "def plus(*args):\n",
    "    return sum(args)\n",
    "\n",
    "# Calculate the sum\n",
    "plus(1,4,5)"
   ]
  },
  {
   "cell_type": "code",
   "execution_count": 5,
   "id": "c31ef2f3",
   "metadata": {},
   "outputs": [
    {
     "name": "stdout",
     "output_type": "stream",
     "text": [
      "His last name is Refsnes\n"
     ]
    }
   ],
   "source": [
    "#如果您不知道将传递给您的函数的关键字参数的数量,参数前加**（两个星号））\n",
    "def my_function(**kid):\n",
    "    print(\"His last name is \" + kid[\"lname\"])\n",
    "\n",
    "my_function(fname = \"Tobias\", lname = \"Refsnes\")"
   ]
  },
  {
   "cell_type": "code",
   "execution_count": 34,
   "id": "47692e4f",
   "metadata": {},
   "outputs": [
    {
     "name": "stdout",
     "output_type": "stream",
     "text": [
      "23\n"
     ]
    }
   ],
   "source": [
    "#EX1.1\n",
    "#hint: use find method in string \n",
    "def findnth(s, sub, n):\n",
    "    num = 0\n",
    "    start = -1\n",
    "    location = 0\n",
    "    if sub not in s:\n",
    "        print(start)\n",
    "    else:\n",
    "        start = 0\n",
    "        while num < n:\n",
    "            location = s.find(sub)\n",
    "            num += 1\n",
    "            start += location\n",
    "            location += len(sub)\n",
    "            s = s[location:]\n",
    "    return start\n",
    "\n",
    "s = \"abc xyz abc jkjkjk abc lkjkjlkj abc jlj\"\n",
    "print(findnth(s,\"abc\", 3))"
   ]
  },
  {
   "cell_type": "code",
   "execution_count": 48,
   "id": "0bf596c1",
   "metadata": {},
   "outputs": [
    {
     "name": "stdout",
     "output_type": "stream",
     "text": [
      "Enter value of x: 2\n",
      "Enter value of y: 3\n",
      "Polar coordinate is: (radius = 3.61,theta = 56.31)\n"
     ]
    }
   ],
   "source": [
    "#Ex 1.2\n",
    "# Converting Cartesian Coordinate to Polar Coordinate\n",
    "# Importing math library\n",
    "import math\n",
    "# Reading cartesian coordinate\n",
    "x = float(input('Enter value of x: '))\n",
    "y = float(input('Enter value of y: '))\n",
    "\n",
    "def covcartopolar(x,y):\n",
    "    radius = math.sqrt( x * x + y * y )\n",
    "    theta = math.degrees(math.atan(y/x))\n",
    "    return (radius,theta)\n",
    "print('Polar coordinate is: (radius = %0.2f,theta = %0.2f)' % covcartopolar(x,y))"
   ]
  },
  {
   "cell_type": "code",
   "execution_count": 50,
   "id": "8532875a",
   "metadata": {},
   "outputs": [
    {
     "ename": "TypeError",
     "evalue": "'int' object is not subscriptable",
     "output_type": "error",
     "traceback": [
      "\u001b[1;31m---------------------------------------------------------------------------\u001b[0m",
      "\u001b[1;31mTypeError\u001b[0m                                 Traceback (most recent call last)",
      "Input \u001b[1;32mIn [50]\u001b[0m, in \u001b[0;36m<cell line: 10>\u001b[1;34m()\u001b[0m\n\u001b[0;32m      7\u001b[0m         \u001b[38;5;28msum\u001b[39m \u001b[38;5;241m+\u001b[39m\u001b[38;5;241m=\u001b[39m data_list[\u001b[38;5;241m0\u001b[39m]\n\u001b[0;32m      8\u001b[0m         recursive_list_sum(data_list\u001b[38;5;241m.\u001b[39mpop(\u001b[38;5;241m0\u001b[39m))\n\u001b[1;32m---> 10\u001b[0m \u001b[38;5;28mprint\u001b[39m( \u001b[43mrecursive_list_sum\u001b[49m\u001b[43m(\u001b[49m\u001b[43m[\u001b[49m\u001b[38;5;241;43m1\u001b[39;49m\u001b[43m,\u001b[49m\u001b[43m \u001b[49m\u001b[38;5;241;43m2\u001b[39;49m\u001b[43m,\u001b[49m\u001b[43m \u001b[49m\u001b[43m[\u001b[49m\u001b[38;5;241;43m3\u001b[39;49m\u001b[43m,\u001b[49m\u001b[38;5;241;43m4\u001b[39;49m\u001b[43m]\u001b[49m\u001b[43m,\u001b[49m\u001b[43m[\u001b[49m\u001b[38;5;241;43m5\u001b[39;49m\u001b[43m,\u001b[49m\u001b[38;5;241;43m6\u001b[39;49m\u001b[43m]\u001b[49m\u001b[43m]\u001b[49m\u001b[43m)\u001b[49m)\n",
      "Input \u001b[1;32mIn [50]\u001b[0m, in \u001b[0;36mrecursive_list_sum\u001b[1;34m(data_list)\u001b[0m\n\u001b[0;32m      6\u001b[0m \u001b[38;5;28;01melse\u001b[39;00m:\n\u001b[0;32m      7\u001b[0m     \u001b[38;5;28msum\u001b[39m \u001b[38;5;241m+\u001b[39m\u001b[38;5;241m=\u001b[39m data_list[\u001b[38;5;241m0\u001b[39m]\n\u001b[1;32m----> 8\u001b[0m     \u001b[43mrecursive_list_sum\u001b[49m\u001b[43m(\u001b[49m\u001b[43mdata_list\u001b[49m\u001b[38;5;241;43m.\u001b[39;49m\u001b[43mpop\u001b[49m\u001b[43m(\u001b[49m\u001b[38;5;241;43m0\u001b[39;49m\u001b[43m)\u001b[49m\u001b[43m)\u001b[49m\n",
      "Input \u001b[1;32mIn [50]\u001b[0m, in \u001b[0;36mrecursive_list_sum\u001b[1;34m(data_list)\u001b[0m\n\u001b[0;32m      5\u001b[0m     \u001b[38;5;28mprint\u001b[39m(\u001b[38;5;28msum\u001b[39m)\n\u001b[0;32m      6\u001b[0m \u001b[38;5;28;01melse\u001b[39;00m:\n\u001b[1;32m----> 7\u001b[0m     \u001b[38;5;28msum\u001b[39m \u001b[38;5;241m+\u001b[39m\u001b[38;5;241m=\u001b[39m \u001b[43mdata_list\u001b[49m\u001b[43m[\u001b[49m\u001b[38;5;241;43m0\u001b[39;49m\u001b[43m]\u001b[49m\n\u001b[0;32m      8\u001b[0m     recursive_list_sum(data_list\u001b[38;5;241m.\u001b[39mpop(\u001b[38;5;241m0\u001b[39m))\n",
      "\u001b[1;31mTypeError\u001b[0m: 'int' object is not subscriptable"
     ]
    }
   ],
   "source": [
    "#EX 2.1\n",
    "???????????????????????????\n",
    "def recursive_list_sum(data_list):\n",
    "    sum = 0\n",
    "    if data_list == \"\":\n",
    "        print(sum)\n",
    "    else:\n",
    "        sum += data_list[0]\n",
    "        recursive_list_sum(data_list.pop(0))\n",
    "    \n",
    "print( recursive_list_sum([1, 2, [3,4],[5,6]]))"
   ]
  },
  {
   "cell_type": "code",
   "execution_count": 56,
   "id": "069b3a9d",
   "metadata": {},
   "outputs": [],
   "source": [
    "#EX 2.2\n",
    "# Hint: use % operator, the function might have multiple return statements\n",
    "def Recurgcd(a, b):\n",
    "    num = 1\n",
    "    \n",
    "    \n",
    "print(Recurgcd(12,14))\n",
    "    "
   ]
  },
  {
   "cell_type": "code",
   "execution_count": null,
   "id": "352d7d4f",
   "metadata": {},
   "outputs": [],
   "source": [
    "#EX 2.3\n",
    "def is_prime(i):\n",
    "    m = 2\n",
    "    while m * m <= i:\n",
    "        if i % m == 0:\n",
    "            return False\n",
    "        m += 1\n",
    "    return True\n",
    "# Answer\n",
    "def num_primes(n):\n",
    "    if is_prime(n) == True:\n",
    "        return num_primes(n-1)+1\n",
    "    else:\n",
    "        num_primes(n-1)+0\n",
    "    return num_primes(n)\n",
    "\n",
    "print(num_primes(25))"
   ]
  }
 ],
 "metadata": {
  "kernelspec": {
   "display_name": "Python 3 (ipykernel)",
   "language": "python",
   "name": "python3"
  },
  "language_info": {
   "codemirror_mode": {
    "name": "ipython",
    "version": 3
   },
   "file_extension": ".py",
   "mimetype": "text/x-python",
   "name": "python",
   "nbconvert_exporter": "python",
   "pygments_lexer": "ipython3",
   "version": "3.9.13"
  }
 },
 "nbformat": 4,
 "nbformat_minor": 5
}
